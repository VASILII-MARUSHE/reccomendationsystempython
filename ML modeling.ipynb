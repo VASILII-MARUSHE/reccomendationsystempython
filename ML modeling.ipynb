{
 "cells": [
  {
   "cell_type": "code",
   "execution_count": 1,
   "metadata": {},
   "outputs": [
    {
     "name": "stdout",
     "output_type": "stream",
     "text": [
      "Calculating user clusters...\n",
      "Training K-Means clustering...\n",
      "Loading data...\n",
      "Data loaded.\n",
      "Clustering complete.\n"
     ]
    }
   ],
   "source": [
    "import numpy as np\n",
    "import pandas as pd\n",
    "from scipy.sparse import dok_matrix\n",
    "from sklearn.cluster import KMeans\n",
    "\n",
    "class UserClusterCalculator:\n",
    "    def __init__(self, df):\n",
    "        self.df = df\n",
    "    \n",
    "    def load_data(self):\n",
    "        print('Loading data...')\n",
    "        \n",
    "        # Filter relevant columns\n",
    "        ratings_df = self.df[['User-ID', 'ISBN', 'Book-Rating']]\n",
    "        \n",
    "        # Create user-item matrix\n",
    "        user_item_matrix = ratings_df.pivot_table(index='User-ID', columns='ISBN', values='Book-Rating', fill_value=0)\n",
    "        \n",
    "        # Convert to sparse matrix\n",
    "        user_ratings = dok_matrix(user_item_matrix.values, dtype=np.float32)\n",
    "        \n",
    "        print('Data loaded.')\n",
    "        return user_item_matrix.index.tolist(), user_ratings\n",
    "    \n",
    "    def calculate(self, k=23):\n",
    "        print('Training K-Means clustering...')\n",
    "        user_ids, user_ratings = self.load_data()\n",
    "        \n",
    "        # Fit KMeans clustering\n",
    "        kmeans = KMeans(n_clusters=k, random_state=42)\n",
    "        clusters = kmeans.fit(user_ratings.tocsr())\n",
    "        \n",
    "        # Save cluster assignments in DataFrame\n",
    "        self.df['Cluster'] = self.df['User-ID'].map(dict(zip(user_ids, clusters.labels_)))\n",
    "        \n",
    "        print('Clustering complete.')\n",
    "        return clusters\n",
    "    \n",
    "    def filter_users_by_book(self, book_title):\n",
    "\n",
    "        first_users = self.df.loc[self.df[\"Book-Title\"].str.contains(book_title, na=False), 'User-ID']\n",
    "        filtered_df = self.df[self.df['User-ID'].isin(first_users)].copy()\n",
    "        return UserClusterCalculator(filtered_df)  # Ensure returning an instance\n",
    "\n",
    "\n",
    "if __name__ == '__main__':\n",
    "    print('Calculating user clusters...')\n",
    "    df = pd.read_csv('C:/Users/vmaru/Desktop/Economics 2/clean_df.csv')  # Load your dataset\n",
    "    cluster_calculator = UserClusterCalculator(df).filter_users_by_book(\"The Lord of the Rings\")\n",
    "    clusters = cluster_calculator.calculate(k=15)\n",
    "    \n",
    "clust_df = cluster_calculator.df\n"
   ]
  },
  {
   "cell_type": "code",
   "execution_count": 2,
   "metadata": {},
   "outputs": [
    {
     "name": "stderr",
     "output_type": "stream",
     "text": [
      "C:\\Users\\vmaru\\AppData\\Local\\Temp\\ipykernel_7264\\1456124351.py:5: DeprecationWarning: Conversion of an array with ndim > 0 to a scalar is deprecated, and will error in future. Ensure you extract a single element from your array before performing this operation. (Deprecated NumPy 1.25.)\n",
      "  return int(np.where(book_counts == max(book_counts))[0])\n"
     ]
    }
   ],
   "source": [
    "def opt_group(df, str):\n",
    "    book_counts = df[df['Book-Title'].str.contains(str, na=False)]\\\n",
    "    .groupby('Cluster')['Book-Title'].count()\n",
    "\n",
    "    return int(np.where(book_counts == max(book_counts))[0])\n",
    "\n",
    "clust_n = opt_group(clust_df, \"The Lord of the Rings\")\n",
    "\n",
    "filt_clust = clust_df[clust_df['Cluster'] == clust_n]\n",
    "\n"
   ]
  },
  {
   "cell_type": "code",
   "execution_count": 3,
   "metadata": {},
   "outputs": [
    {
     "data": {
      "text/plain": [
       "array([[1., 0., 0., ..., 0., 0., 0.],\n",
       "       [0., 1., 0., ..., 0., 0., 0.],\n",
       "       [0., 0., 1., ..., 0., 0., 0.],\n",
       "       ...,\n",
       "       [0., 0., 0., ..., 1., 0., 0.],\n",
       "       [0., 0., 0., ..., 0., 1., 0.],\n",
       "       [0., 0., 0., ..., 0., 0., 1.]], shape=(13220, 13220))"
      ]
     },
     "execution_count": 3,
     "metadata": {},
     "output_type": "execute_result"
    }
   ],
   "source": [
    "from scipy.sparse import lil_matrix\n",
    "\n",
    "\n",
    "user_filt = filt_clust['User-ID'].unique()\n",
    "\n",
    "book_filt = filt_clust['ISBN'].unique()\n",
    "\n",
    "n_book = len(book_filt)\n",
    "\n",
    "n_user = len(user_filt)\n",
    "\n",
    "matrix = lil_matrix((n_user, n_book), dtype=float)\n",
    "\n",
    "# Create user and book index mappings\n",
    "user_to_index = {user: idx for idx, user in enumerate(user_filt)}\n",
    "book_to_index = {book: idx for idx, book in enumerate(book_filt)}\n",
    "\n",
    "\n",
    "# Populate the sparse matrix\n",
    "for _, row in filt_clust.iterrows():\n",
    "    user_idx = user_to_index[row['User-ID']]\n",
    "    book_idx = book_to_index[row['ISBN']]\n",
    "    matrix[user_idx, book_idx] = row['Book-Rating']\n",
    "\n",
    "from scipy.sparse import csr_matrix\n",
    "\n",
    "rating_matrix = matrix.tocsr()\n",
    "\n",
    "from sklearn.metrics.pairwise import cosine_similarity\n",
    "\n",
    "# Transpose to get items (books) as rows\n",
    "item_similarity = cosine_similarity(rating_matrix.T)\n",
    "\n",
    "item_similarity"
   ]
  },
  {
   "cell_type": "code",
   "execution_count": 4,
   "metadata": {},
   "outputs": [],
   "source": [
    "index_to_book = {idx: book for book, idx in book_to_index.items()}\n",
    "\n",
    "def recommend_books_based_on_book(book_id, top_n=5):\n",
    "    if book_id not in book_to_index:\n",
    "        return pd.DataFrame(columns=[\"Book-Title\", \"ISBN\", \"Similarity-Score\"])\n",
    "\n",
    "    # Get the index of the input book\n",
    "    book_idx = book_to_index[book_id]\n",
    "    \n",
    "    # Get similarity scores for this book\n",
    "    similar_books = list(enumerate(item_similarity[book_idx]))\n",
    "    \n",
    "    # Sort by similarity scores (highest first), excluding the input book itself\n",
    "    similar_books = sorted(similar_books, key=lambda x: x[1], reverse=True)\n",
    "    \n",
    "    # Select top N similar books (excluding the input book itself)\n",
    "    recommended_books = [\n",
    "        (index_to_book[idx], round(float(score), 4))\n",
    "        for idx, score in similar_books[1:top_n + 1]\n",
    "    ]\n",
    "    \n",
    "    # Create a DataFrame for the recommendations\n",
    "    recommendations_df = pd.DataFrame(\n",
    "        {\n",
    "            \"Book-Title\": [\n",
    "                filt_clust.loc[filt_clust[\"ISBN\"] == isbn, \"Book-Title\"].values[0]\n",
    "                for isbn, _ in recommended_books\n",
    "            ],\n",
    "            \"Similarity-Score\": [score for _, score in recommended_books],\n",
    "        }\n",
    "    )\n",
    "    return recommendations_df\n"
   ]
  },
  {
   "cell_type": "code",
   "execution_count": 6,
   "metadata": {},
   "outputs": [
    {
     "name": "stdout",
     "output_type": "stream",
     "text": [
      "                                          Book-Title  Similarity-Score\n",
      "0            The Girls' Guide to Hunting and Fishing            0.4235\n",
      "1        Confessions of an Ugly Stepsister : A Novel            0.4189\n",
      "2  The Devil in the White City : Murder, Magic, a...            0.3535\n",
      "3                               The Tortilla Curtain            0.3446\n",
      "4      Shock Wave (Dirk Pitt Adventures (Paperback))            0.3446\n",
      "5                                The Dominant Blonde            0.3446\n",
      "6             The Silver Chair (full color) (Narnia)            0.3446\n",
      "7                     The Magician's Nephew (Narnia)            0.3446\n",
      "8      Ender's Game (Ender Wiggins Saga (Paperback))            0.3446\n",
      "9                                      Black Rainbow            0.3446\n"
     ]
    }
   ],
   "source": [
    "book_id = '0618260250'\n",
    "recommendations = recommend_books_based_on_book(book_id, top_n=10)\n",
    "print(recommendations)\n"
   ]
  }
 ],
 "metadata": {
  "kernelspec": {
   "display_name": "Python 3",
   "language": "python",
   "name": "python3"
  },
  "language_info": {
   "codemirror_mode": {
    "name": "ipython",
    "version": 3
   },
   "file_extension": ".py",
   "mimetype": "text/x-python",
   "name": "python",
   "nbconvert_exporter": "python",
   "pygments_lexer": "ipython3",
   "version": "3.13.1"
  }
 },
 "nbformat": 4,
 "nbformat_minor": 2
}
